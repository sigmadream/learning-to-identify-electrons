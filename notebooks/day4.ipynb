{
 "cells": [
  {
   "cell_type": "code",
   "execution_count": 1,
   "metadata": {},
   "outputs": [],
   "source": [
    "import keras\n",
    "from keras.models import Model\n",
    "from keras.layers import Input, Dense, Activation, Conv2D, MaxPooling2D, Flatten, Dropout"
   ]
  },
  {
   "cell_type": "code",
   "execution_count": 3,
   "metadata": {},
   "outputs": [],
   "source": [
    "def conv_block(layer, filters, activation='relu'):\n",
    "    layer=Conv2D(filters, kernel_size=(3, 3),activation=activation,padding='same')(layer)\n",
    "    layer=Conv2D(filters, kernel_size=(3, 3), activation=activation,padding='same')(layer)\n",
    "    layer=MaxPooling2D(pool_size=(2, 2),padding='same')(layer)\n",
    "    return layer "
   ]
  },
  {
   "cell_type": "code",
   "execution_count": 9,
   "metadata": {},
   "outputs": [
    {
     "name": "stdout",
     "output_type": "stream",
     "text": [
      "KerasTensor(type_spec=TensorSpec(shape=(None, 31, 31, 117), dtype=tf.float32, name=None), name='conv2d_7/Relu:0', description=\"created by layer 'conv2d_7'\")\n",
      "KerasTensor(type_spec=TensorSpec(shape=(None, 16, 16, 117), dtype=tf.float32, name=None), name='max_pooling2d_2/MaxPool:0', description=\"created by layer 'max_pooling2d_2'\")\n"
     ]
    }
   ],
   "source": [
    "input=Input(shape=(31, 31, 1))\n",
    "layer=conv_block(input, filters=117)\n",
    "print(layer)"
   ]
  },
  {
   "cell_type": "code",
   "execution_count": null,
   "metadata": {},
   "outputs": [],
   "source": []
  }
 ],
 "metadata": {
  "kernelspec": {
   "display_name": "venv",
   "language": "python",
   "name": "python3"
  },
  "language_info": {
   "codemirror_mode": {
    "name": "ipython",
    "version": 3
   },
   "file_extension": ".py",
   "mimetype": "text/x-python",
   "name": "python",
   "nbconvert_exporter": "python",
   "pygments_lexer": "ipython3",
   "version": "3.10.9"
  },
  "orig_nbformat": 4,
  "vscode": {
   "interpreter": {
    "hash": "fa51223b3419b08655b7d1539e8449f8f81a18ec9ae62bb88d4588f6cda1ef6d"
   }
  }
 },
 "nbformat": 4,
 "nbformat_minor": 2
}
